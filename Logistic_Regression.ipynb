{
  "nbformat": 4,
  "nbformat_minor": 0,
  "metadata": {
    "colab": {
      "name": "Logistic Regression.ipynb",
      "provenance": [],
      "authorship_tag": "ABX9TyPfmcKT65MCGIQt6Q8y+qnT",
      "include_colab_link": true
    },
    "kernelspec": {
      "name": "python3",
      "display_name": "Python 3"
    },
    "language_info": {
      "name": "python"
    }
  },
  "cells": [
    {
      "cell_type": "markdown",
      "metadata": {
        "id": "view-in-github",
        "colab_type": "text"
      },
      "source": [
        "<a href=\"https://colab.research.google.com/github/Pushpit07/Logistic_Regression/blob/main/Logistic_Regression.ipynb\" target=\"_parent\"><img src=\"https://colab.research.google.com/assets/colab-badge.svg\" alt=\"Open In Colab\"/></a>"
      ]
    },
    {
      "cell_type": "markdown",
      "metadata": {
        "id": "ZeG7i2maxwer"
      },
      "source": [
        "# Logistic Regression\n",
        "\n",
        "---\n",
        "\n"
      ]
    },
    {
      "cell_type": "markdown",
      "metadata": {
        "id": "Eo6LUXyguWCE"
      },
      "source": [
        "## Classification Technique"
      ]
    },
    {
      "cell_type": "markdown",
      "metadata": {
        "id": "Qg_rQGE_xKP2"
      },
      "source": [
        "A plane is constructed by the model which divides the data points into classes. \n",
        "\n",
        "Eqn of plane:  Ax + By + C = D\n",
        "\n",
        "If D >= 0, point lies in class 1.\n",
        "\n",
        "If D < 0, point lies in class 0."
      ]
    },
    {
      "cell_type": "markdown",
      "metadata": {
        "id": "OBPxmXcbyziZ"
      },
      "source": [
        "Use Sigmoid function to map the [-inf, +inf] range to [0, 1]."
      ]
    },
    {
      "cell_type": "markdown",
      "metadata": {
        "id": "iEB_UHWXy54u"
      },
      "source": [
        "**Sigmoid Function**\n",
        "\n",
        "<img src=\"https://www.gstatic.com/education/formulas2/355397047/en/sigmoid_function.svg\"/>"
      ]
    },
    {
      "cell_type": "markdown",
      "metadata": {
        "id": "9vs4gObPzZkW"
      },
      "source": [
        "The range of S(x) is (0, 1)"
      ]
    },
    {
      "cell_type": "code",
      "metadata": {
        "id": "D22DV-2Xy391"
      },
      "source": [
        "import numpy as np\n",
        "from sklearn.datasets import make_blobs\n",
        "from sklearn.linear_model import LogisticRegression\n",
        "import matplotlib.pyplot as plt\n",
        "from sklearn.model_selection import train_test_split"
      ],
      "execution_count": 3,
      "outputs": []
    },
    {
      "cell_type": "code",
      "metadata": {
        "id": "S5E9_ypyOFuW"
      },
      "source": [
        "X, y = make_blobs(n_samples=1000, centers=2, random_state=42)"
      ],
      "execution_count": 4,
      "outputs": []
    },
    {
      "cell_type": "code",
      "metadata": {
        "colab": {
          "base_uri": "https://localhost:8080/",
          "height": 282
        },
        "id": "jBZ168WqOM6q",
        "outputId": "795c43cc-a983-41e9-bc1f-053bb0dae855"
      },
      "source": [
        "plt.scatter(X[:, 0], X[:, 1], c=y)"
      ],
      "execution_count": 6,
      "outputs": [
        {
          "output_type": "execute_result",
          "data": {
            "text/plain": [
              "<matplotlib.collections.PathCollection at 0x7fa5016ed890>"
            ]
          },
          "metadata": {
            "tags": []
          },
          "execution_count": 6
        },
        {
          "output_type": "display_data",
          "data": {
            "image/png": "[encoded data removed]",
            "text/plain": [
              "<Figure size 432x288 with 1 Axes>"
            ]
          },
          "metadata": {
            "tags": [],
            "needs_background": "light"
          }
        }
      ]
    },
    {
      "cell_type": "code",
      "metadata": {
        "id": "lX2Rlo_ePABn"
      },
      "source": [
        "X_train, X_test, y_train, y_test = train_test_split(\n",
        "...     X, y, test_size=0.33, random_state=42)"
      ],
      "execution_count": 8,
      "outputs": []
    },
    {
      "cell_type": "code",
      "metadata": {
        "id": "fubVFjVZPF-D"
      },
      "source": [
        "model = LogisticRegression()"
      ],
      "execution_count": 9,
      "outputs": []
    },
    {
      "cell_type": "code",
      "metadata": {
        "colab": {
          "base_uri": "https://localhost:8080/"
        },
        "id": "OImqDxvHPNUW",
        "outputId": "e41f7d77-f323-4140-e97c-e03dfab16ae8"
      },
      "source": [
        "model.fit(X_train, y_train)"
      ],
      "execution_count": 10,
      "outputs": [
        {
          "output_type": "execute_result",
          "data": {
            "text/plain": [
              "LogisticRegression(C=1.0, class_weight=None, dual=False, fit_intercept=True,\n",
              "                   intercept_scaling=1, l1_ratio=None, max_iter=100,\n",
              "                   multi_class='auto', n_jobs=None, penalty='l2',\n",
              "                   random_state=None, solver='lbfgs', tol=0.0001, verbose=0,\n",
              "                   warm_start=False)"
            ]
          },
          "metadata": {
            "tags": []
          },
          "execution_count": 10
        }
      ]
    },
    {
      "cell_type": "code",
      "metadata": {
        "colab": {
          "base_uri": "https://localhost:8080/"
        },
        "id": "TNXKgIR3PR8X",
        "outputId": "c65c14c1-6258-483d-f730-bb297603255e"
      },
      "source": [
        "model.coef_, model.intercept_"
      ],
      "execution_count": 13,
      "outputs": [
        {
          "output_type": "execute_result",
          "data": {
            "text/plain": [
              "(array([[ 1.26415035, -1.21172442]]), array([5.49040014]))"
            ]
          },
          "metadata": {
            "tags": []
          },
          "execution_count": 13
        }
      ]
    },
    {
      "cell_type": "code",
      "metadata": {
        "id": "eQOQf5ooPTeZ"
      },
      "source": [
        "x1_sample = np.linspace(-6, 7)"
      ],
      "execution_count": 14,
      "outputs": []
    },
    {
      "cell_type": "code",
      "metadata": {
        "id": "KyXEXKGeQmW4"
      },
      "source": [
        "colors = ['red', 'blue']\n",
        "y_colors = list(map(lambda c: colors[c], y))"
      ],
      "execution_count": 18,
      "outputs": []
    },
    {
      "cell_type": "code",
      "metadata": {
        "colab": {
          "base_uri": "https://localhost:8080/"
        },
        "id": "ie8zYrW3Qo0X",
        "outputId": "8a4354ea-d2ba-461e-8c67-06aa8dead422"
      },
      "source": [
        "y[:5], y_colors[:5]"
      ],
      "execution_count": 19,
      "outputs": [
        {
          "output_type": "execute_result",
          "data": {
            "text/plain": [
              "(array([0, 1, 1, 1, 1]), ['red', 'blue', 'blue', 'blue', 'blue'])"
            ]
          },
          "metadata": {
            "tags": []
          },
          "execution_count": 19
        }
      ]
    },
    {
      "cell_type": "code",
      "metadata": {
        "colab": {
          "base_uri": "https://localhost:8080/",
          "height": 265
        },
        "id": "fiWdVjddREWP",
        "outputId": "a73e2cef-0a0b-455c-fa9d-9557301d91f0"
      },
      "source": [
        "plt.scatter(X[:, 0], X[:, 1], c=y)\n",
        "\n",
        "for i, (coef, intercept) in enumerate(zip(model.coef_, model.intercept_)):\n",
        "  x2_sample = -coef[0]/coef[1] * x1_sample - intercept/coef[1]\n",
        "  plt.plot(x1_sample, x2_sample, color=colors[i])"
      ],
      "execution_count": 20,
      "outputs": [
        {
          "output_type": "display_data",
          "data": {
            "image/png": "[encoded data removed]",
            "text/plain": [
              "<Figure size 432x288 with 1 Axes>"
            ]
          },
          "metadata": {
            "tags": [],
            "needs_background": "light"
          }
        }
      ]
    },
    {
      "cell_type": "code",
      "metadata": {
        "colab": {
          "base_uri": "https://localhost:8080/"
        },
        "id": "d3QI-nF-STFT",
        "outputId": "f4c59298-8a4d-41b9-d172-8b59332cd34e"
      },
      "source": [
        "model.score(X_test, y_test)"
      ],
      "execution_count": 21,
      "outputs": [
        {
          "output_type": "execute_result",
          "data": {
            "text/plain": [
              "1.0"
            ]
          },
          "metadata": {
            "tags": []
          },
          "execution_count": 21
        }
      ]
    },
    {
      "cell_type": "code",
      "metadata": {
        "id": "XB09MMDAUZb9"
      },
      "source": [
        ""
      ],
      "execution_count": null,
      "outputs": []
    }
  ]
}