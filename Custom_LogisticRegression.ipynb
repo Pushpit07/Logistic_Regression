{
  "nbformat": 4,
  "nbformat_minor": 0,
  "metadata": {
    "colab": {
      "name": "Custom_LogisticRegression.ipynb",
      "provenance": [],
      "authorship_tag": "ABX9TyNvQC+SlPCEUy+deIJ24npt",
      "include_colab_link": true
    },
    "kernelspec": {
      "name": "python3",
      "display_name": "Python 3"
    },
    "language_info": {
      "name": "python"
    }
  },
  "cells": [
    {
      "cell_type": "markdown",
      "metadata": {
        "id": "view-in-github",
        "colab_type": "text"
      },
      "source": [
        "<a href=\"https://colab.research.google.com/github/Pushpit07/Logistic_Regression/blob/main/Custom_LogisticRegression.ipynb\" target=\"_parent\"><img src=\"https://colab.research.google.com/assets/colab-badge.svg\" alt=\"Open In Colab\"/></a>"
      ]
    },
    {
      "cell_type": "code",
      "metadata": {
        "id": "RtNOsrV5XPGV"
      },
      "source": [
        "import numpy as np\n",
        "from sklearn.datasets import make_blobs\n",
        "from sklearn.linear_model import LogisticRegression\n",
        "import matplotlib.pyplot as plt\n",
        "from sklearn.model_selection import train_test_split"
      ],
      "execution_count": 26,
      "outputs": []
    },
    {
      "cell_type": "code",
      "metadata": {
        "id": "UmcRCbnMXWAU"
      },
      "source": [
        "X, y = make_blobs(centers=2, random_state=0)"
      ],
      "execution_count": 45,
      "outputs": []
    },
    {
      "cell_type": "code",
      "metadata": {
        "colab": {
          "base_uri": "https://localhost:8080/",
          "height": 282
        },
        "id": "HMdOW8mZXZan",
        "outputId": "fe0a1fca-c3e0-4692-c41a-8149a660df15"
      },
      "source": [
        "plt.scatter(X[:, 0], X[:, 1], c=y)"
      ],
      "execution_count": 46,
      "outputs": [
        {
          "output_type": "execute_result",
          "data": {
            "text/plain": [
              "<matplotlib.collections.PathCollection at 0x7f7e2a52d750>"
            ]
          },
          "metadata": {
            "tags": []
          },
          "execution_count": 46
        },
        {
          "output_type": "display_data",
          "data": {
            "image/png": "[encoded data removed]",
            "text/plain": [
              "<Figure size 432x288 with 1 Axes>"
            ]
          },
          "metadata": {
            "tags": [],
            "needs_background": "light"
          }
        }
      ]
    },
    {
      "cell_type": "code",
      "metadata": {
        "id": "ji9g7Zq9XemX"
      },
      "source": [
        "class CustomLogisticRegression:\n",
        "  # constructor\n",
        "  def __init__(self, lr=0.01, iters=20):\n",
        "    self._lr = lr\n",
        "    self._iters = iters\n",
        "\n",
        "  # fit function, where training will happen\n",
        "  def fit(self, X, y):\n",
        "    self._y = y.reshape(-1, 1)\n",
        "    X_mod = np.hstack([np.ones([len(X), 1]), X])\n",
        "    self._X = X_mod\n",
        "\n",
        "    self._theta = np.zeros([X_mod.shape[1], 1])\n",
        "\n",
        "    err = []\n",
        "    for i in range(self._iters):\n",
        "      err.append(self.error())\n",
        "      self.gradient_ascend()\n",
        "\n",
        "    self.theta_ = self._theta\n",
        "    return err\n",
        "  \n",
        "  def gradient_ascend(self):\n",
        "    delta_theta = self.gradient()\n",
        "    self._theta -= delta_theta\n",
        "  \n",
        "  def gradient(self):\n",
        "    yh = self.hypothesis(self._X)\n",
        "    ya = self._y\n",
        "    diff = -(ya - yh) # (100, 1) # here i have taken -ve of log likelyhood, hence gradient descent            \n",
        "    return np.dot(self._X.T, diff) * self._lr # (3,1) # for every feature, sum(diff * ith example)\n",
        "\n",
        "  def hypothesis(self, X):\n",
        "    prod = np.dot(X, self._theta)\n",
        "    # X.shape is (100, 3)\n",
        "    # Shape of theta is (3, 1)\n",
        "    # prod.shape is (100, 1)\n",
        "    return 1/(1 + np.exp(-prod))\n",
        "\n",
        "  def error(self):\n",
        "    yh = self.hypothesis(self._X)\n",
        "    ya = self._y\n",
        "    ll = ya * np.log(yh) + (1-ya)*np.log(1-yh)\n",
        "    return -np.mean(ll)\n",
        "\n",
        "  def predict(self, X):\n",
        "    X_mod = np.hstack([np.ones([len(X), 1]), X])\n",
        "    yh = self.hypothesis(X_mod)\n",
        "    return (yh > .5).astype(int).flatten()\n",
        "\n",
        "  def score(self, X, y):\n",
        "    yp = self.predict(X)\n",
        "    return np.mean(yp==y)\n",
        "\n",
        "  def confusion_matrix(self, X, y):\n",
        "    yp = self.predict(X)\n",
        "    \n",
        "    tp = np.mean((y==1) & (yp==1))\n",
        "    tn = np.mean((y==0) & (yp==0))\n",
        "    fp = np.mean((y==0) & (yp==1))\n",
        "    fn = np.mean((y==1) & (yp==0))\n",
        "    \n",
        "    return np.array([[tp, fp], [fn, tn]])"
      ],
      "execution_count": 47,
      "outputs": []
    },
    {
      "cell_type": "code",
      "metadata": {
        "id": "OkmUg2hgchCu"
      },
      "source": [
        "model = CustomLogisticRegression()"
      ],
      "execution_count": 48,
      "outputs": []
    },
    {
      "cell_type": "code",
      "metadata": {
        "id": "TwGSH3fUcr6C"
      },
      "source": [
        "X_train, X_test, y_train, y_test = train_test_split(\n",
        "...     X, y, test_size=0.33, random_state=42)"
      ],
      "execution_count": 49,
      "outputs": []
    },
    {
      "cell_type": "code",
      "metadata": {
        "id": "is3qXeo2ck1y"
      },
      "source": [
        "err = model.fit(X_train, y_train)"
      ],
      "execution_count": 50,
      "outputs": []
    },
    {
      "cell_type": "code",
      "metadata": {
        "colab": {
          "base_uri": "https://localhost:8080/",
          "height": 282
        },
        "id": "qinPlhDrdLlk",
        "outputId": "b32c88af-d9bd-417e-8a33-0f6db76125c7"
      },
      "source": [
        "plt.plot(err)"
      ],
      "execution_count": 51,
      "outputs": [
        {
          "output_type": "execute_result",
          "data": {
            "text/plain": [
              "[<matplotlib.lines.Line2D at 0x7f7e2a498e50>]"
            ]
          },
          "metadata": {
            "tags": []
          },
          "execution_count": 51
        },
        {
          "output_type": "display_data",
          "data": {
            "image/png": "[encoded data removed]",
            "text/plain": [
              "<Figure size 432x288 with 1 Axes>"
            ]
          },
          "metadata": {
            "tags": [],
            "needs_background": "light"
          }
        }
      ]
    },
    {
      "cell_type": "code",
      "metadata": {
        "id": "ya--CZFPdR7O",
        "colab": {
          "base_uri": "https://localhost:8080/"
        },
        "outputId": "2459973e-92eb-408e-a61c-a8c431ec8413"
      },
      "source": [
        "model.theta_"
      ],
      "execution_count": 52,
      "outputs": [
        {
          "output_type": "execute_result",
          "data": {
            "text/plain": [
              "array([[ 0.71194608],\n",
              "       [ 1.17525229],\n",
              "       [-1.1967875 ]])"
            ]
          },
          "metadata": {
            "tags": []
          },
          "execution_count": 52
        }
      ]
    },
    {
      "cell_type": "code",
      "metadata": {
        "colab": {
          "base_uri": "https://localhost:8080/"
        },
        "id": "qRobB38Vdya8",
        "outputId": "9e685d9d-c862-4494-dee2-744afd0b45ae"
      },
      "source": [
        "model.score(X_test, y_test)"
      ],
      "execution_count": 53,
      "outputs": [
        {
          "output_type": "execute_result",
          "data": {
            "text/plain": [
              "0.8787878787878788"
            ]
          },
          "metadata": {
            "tags": []
          },
          "execution_count": 53
        }
      ]
    },
    {
      "cell_type": "code",
      "metadata": {
        "id": "YlX9_vSYd4jI"
      },
      "source": [
        ""
      ],
      "execution_count": 53,
      "outputs": []
    }
  ]
}